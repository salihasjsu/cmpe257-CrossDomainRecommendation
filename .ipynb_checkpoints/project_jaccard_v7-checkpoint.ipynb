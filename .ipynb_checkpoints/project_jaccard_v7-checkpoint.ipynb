{
 "cells": [
  {
   "cell_type": "code",
   "execution_count": null,
   "metadata": {
    "scrolled": true
   },
   "outputs": [],
   "source": [
    "import pandas as pd\n",
    "import numpy as np\n",
    "import random\n",
    "rating_dataset = pd.read_csv(\"ratings.csv\")\n",
    "rating_dataset = rating_dataset.drop(columns =['timestamp'])\n",
    "rating_dataset.head()\n",
    "movie_dataset = pd.read_csv(\"movies.csv\")\n",
    "#movie_dataset.head()\n",
    "data = pd.merge(rating_dataset,movie_dataset, left_on='movieId',right_on ='movieId',how='left') \n",
    "unique_user = np.unique(data['userId'])\n",
    "count =0 \n",
    "final_data = pd.DataFrame(columns = ['userId','movieId','rating','title','genres'])\n",
    "for i in range(len(unique_user)):\n",
    "    if unique_user[count] <= 100:\n",
    "        rows = data.loc[data['userId'] == unique_user[count]].head(random.randrange(2, 4))\n",
    "        new_data = pd.DataFrame(np.array(rows),columns=['userId','movieId','rating','title','genres'])\n",
    "        final_data = final_data.append(new_data)\n",
    "        count += 1\n",
    "    else:\n",
    "        break\n",
    "final_data = final_data.reset_index(drop=True)\n",
    "final_data = final_data.astype({\"userId\": int, \"movieId\": int,'rating': float, 'title':str, 'genres':str })    \n",
    "final_data.to_csv('Final_Dataset.csv',index=False)\n",
    "final_data.head(6)"
   ]
  },
  {
   "cell_type": "code",
   "execution_count": null,
   "metadata": {},
   "outputs": [],
   "source": [
    "import matplotlib.pyplot as plt\n",
    "%matplotlib inline\n",
    "#final_data.plot.scatter('rating','userId')\n",
    "\n",
    "final_data.plot.scatter(x='rating', y='userId')\n",
    "plt.xlabel('rating')\n",
    "plt.ylabel('userId')"
   ]
  },
  {
   "cell_type": "code",
   "execution_count": null,
   "metadata": {
    "scrolled": true
   },
   "outputs": [],
   "source": [
    "#final_data.plot(kind='hist',x='userId',y='rating')\n",
    "final_data['userId'].hist(bins= 50)\n",
    "plt.show()"
   ]
  },
  {
   "cell_type": "code",
   "execution_count": null,
   "metadata": {},
   "outputs": [],
   "source": [
    "#final_data.plot(kind='hist',x='userId',y='movieId')\n",
    "#plt.show()\n",
    "final_data['movieId'].value_counts().head(30).plot(kind='bar',figsize =(20,25))\n",
    "plt.show()\n",
    "#final_data.groupby(['userId','movieId']).size().unstack().head(20).plot(kind='bar',stacked=True,figsize=(20,30))\n",
    "#plt.show()"
   ]
  },
  {
   "cell_type": "code",
   "execution_count": null,
   "metadata": {
    "scrolled": true
   },
   "outputs": [],
   "source": [
    "import matplotlib.pyplot as plt\n",
    "import pandas as pd\n",
    "\n",
    "final_data.groupby(['genres','movieId']).size().unstack().head(20).plot(kind='bar',stacked=True,figsize=(20,30))\n",
    "plt.show()"
   ]
  },
  {
   "cell_type": "code",
   "execution_count": null,
   "metadata": {},
   "outputs": [],
   "source": [
    "final_data = pd.read_csv(\"Final_Dataset.csv\")"
   ]
  },
  {
   "cell_type": "code",
   "execution_count": null,
   "metadata": {},
   "outputs": [],
   "source": [
    "# check if there is any data in any column missing or not available\n",
    "final_data.isnull().values.any()"
   ]
  },
  {
   "cell_type": "code",
   "execution_count": null,
   "metadata": {},
   "outputs": [],
   "source": [
    "# find threshold by averging the movie ratings\n",
    "# get only top5 rated movies per user,threshold is 4.5\n",
    "\n",
    "maxRating = final_data.loc[final_data['rating'].idxmax()]['rating'] \n",
    "toprated_user_movies = final_data.loc[final_data['rating'] >= maxRating/2+1]\n",
    "toprated_user_movies = toprated_user_movies.sort_values(['userId','rating'],ascending=[True,False])\n",
    "toprated_user_movies.reset_index(inplace=True, drop=True)\n",
    "toprated_user_movies.head()\n",
    "\n",
    "# checking if user has rated a movie multiple times\n",
    "#toprated_user_movies.duplicated(subset=['userId','movieId'])\n",
    "# actual data is 20000263 after this step it is 646297"
   ]
  },
  {
   "cell_type": "code",
   "execution_count": null,
   "metadata": {},
   "outputs": [],
   "source": [
    "#Unique Genres\n",
    "import pandas as pd\n",
    "unique_genres_pre = pd.DataFrame(columns=['genres'])\n",
    "#unique_genres_pre['genres'] = unique_genres_pre['genres'].str.split('|')\n",
    "unique_genres_pre['genres'] = toprated_user_movies['genres'].unique()\n",
    "unique_genres_pre['genres'] = unique_genres_pre['genres'].str.split('|')\n",
    "unique_genres = unique_genres_pre['genres']\n",
    "print(len(unique_genres))"
   ]
  },
  {
   "cell_type": "code",
   "execution_count": null,
   "metadata": {
    "scrolled": true
   },
   "outputs": [],
   "source": [
    "# Break up the big genre string into a string array\n",
    "toprated_user_movies['genres'] = toprated_user_movies['genres'].str.split('|')\n",
    "# Convert genres to string value\n",
    "#toprated_user_movies['genres'] = np.array(toprated_user_movies['genres'])\n",
    "toprated_user_movies['genres'] = toprated_user_movies['genres'].str.join(',')\n",
    "toprated_user_movies.head()"
   ]
  },
  {
   "cell_type": "code",
   "execution_count": null,
   "metadata": {},
   "outputs": [],
   "source": [
    "books = pd.read_csv('book_data.csv')\n",
    "len(books['genres'])\n",
    "books['genres'].value_counts().head(30).plot(kind='barh',figsize =(20,25))\n",
    "plt.show()"
   ]
  },
  {
   "cell_type": "code",
   "execution_count": null,
   "metadata": {
    "scrolled": true
   },
   "outputs": [],
   "source": [
    "#target domain\n",
    "books = pd.read_csv('book_data.csv')\n",
    "books = books[['book_title','genres','book_rating']]\n",
    "books = books.dropna(how='any', axis=0)\n",
    "# Break up the big genre string into a string array\n",
    "books['genres'] = books['genres'].str.split('|')\n",
    "# Convert genres to string value\n",
    "books['genres'] = np.array(books['genres'])\n",
    "\n",
    "books['length'] = books['genres'].str.len()\n",
    "books = books.sort_values(['length'])\n",
    "books = books.drop(columns = ['length'])\n",
    "maxRating_book = books.loc[books['book_rating'].idxmax()]['book_rating'] \n",
    "books = books.loc[books['book_rating'] >= maxRating_book/2+1]\n",
    "books.reset_index(inplace=True, drop=True)\n",
    "books.head(5)\n",
    "\n"
   ]
  },
  {
   "cell_type": "code",
   "execution_count": null,
   "metadata": {
    "scrolled": true
   },
   "outputs": [],
   "source": [
    "books['book_rating'].hist(bins= 50)"
   ]
  },
  {
   "cell_type": "code",
   "execution_count": null,
   "metadata": {},
   "outputs": [],
   "source": [
    "def book_basedon_movie(genre):\n",
    "    # finding intersecti:on and recommending books\n",
    "    data = []\n",
    "   \n",
    "    book_titles = []\n",
    "    scores = []\n",
    "    ratings = []\n",
    "    book_genres = []\n",
    "    for i,row in books.iterrows():\n",
    "        movies_set = set(genre)\n",
    "        books_set = set(row.genres)\n",
    "        intersection = movies_set.intersection(books_set)\n",
    "        book_titles.append(row.book_title)\n",
    "        ratings.append(row.book_rating)\n",
    "        #\n",
    "        book_genres.append(row.genres)\n",
    "        #\n",
    "        scores.append(float(len(intersection))/(len(movies_set)+len(books_set)))\n",
    "    final = pd.DataFrame(columns = ['book_title','score','ratings','book_genres'])\n",
    "    final['book_title'] = book_titles\n",
    "    final['score'] = scores\n",
    "    final['ratings'] = ratings\n",
    "    final['book_genres'] = book_genres\n",
    "    return final\n",
    "\n",
    "\n",
    "#toprated_user_movies['books'] = books_array\n",
    "\n",
    "#toprated_user_movies.head()\n",
    "\n",
    "\n"
   ]
  },
  {
   "cell_type": "code",
   "execution_count": null,
   "metadata": {
    "scrolled": true
   },
   "outputs": [],
   "source": [
    "df_books_movies = pd.DataFrame(columns=['genres','books'])\n",
    "size = len(unique_genres)\n",
    "books_array = []\n",
    "genres = []\n",
    "for i in range(size):\n",
    "    book_df = book_basedon_movie(unique_genres[i])\n",
    "    book_df = book_df.sort_values(['score','ratings'],ascending=[False,False]).head(5)\n",
    "    books_array.append(','.join([str(elem) for elem in book_df['book_title']]))\n",
    "    genres.append(','.join(unique_genres[i]))\n",
    "df_books_movies['genres'] = genres\n",
    "df_books_movies['books'] = books_array\n",
    "df_books_movies.head()"
   ]
  },
  {
   "cell_type": "code",
   "execution_count": null,
   "metadata": {
    "scrolled": true
   },
   "outputs": [],
   "source": [
    "final = pd.merge(toprated_user_movies,df_books_movies, left_on='genres',right_on ='genres',how='left')\n",
    "final = final.dropna()\n",
    "final.to_csv('Recommended_Dataset.csv',index=False)\n",
    "print(final.isnull().values.any())\n",
    "final.head()"
   ]
  },
  {
   "cell_type": "code",
   "execution_count": null,
   "metadata": {},
   "outputs": [],
   "source": [
    "Output_data = pd.read_csv('Recommended_Dataset.csv')\n",
    "Output_data['books'] = Output_data['books'].str.split(',')\n",
    "Output_data.head()"
   ]
  },
  {
   "cell_type": "code",
   "execution_count": null,
   "metadata": {},
   "outputs": [],
   "source": [
    "#testing\n",
    "print(df_books_movies.loc[df_books_movies['genres']=='Adventure,Children,Fantasy'])"
   ]
  },
  {
   "cell_type": "code",
   "execution_count": null,
   "metadata": {
    "scrolled": true
   },
   "outputs": [],
   "source": [
    "book_ds_csv = pd.DataFrame(columns=['userId','books'])\n",
    "books_array = []\n",
    "users = []\n",
    "genres = []\n",
    "def books_for_users(userID,size):\n",
    "    book = np.array(Output_data.loc[Output_data['userId']==userID]['books'])\n",
    "    #genre = np.array(Output_data.loc[Output_data['userId']==userID]['book_genres'])\n",
    "    for i in range(size):\n",
    "        users.append(userID)\n",
    "        books_array.append(book[i])    \n",
    "        #genres.append(genre[i])\n",
    "unique_user = np.unique(Output_data['userId'])\n",
    "\n",
    "\n",
    "      \n",
    "for j in range(5):\n",
    "    size = len(Output_data.loc[Output_data['userId']==unique_user[j]]) \n",
    "    books_for_users(unique_user[j],size)\n",
    "\n",
    "book_ds_csv['userId'] = users\n",
    "book_ds_csv['books'] = books_array\n",
    "#book_ds_csv['genres'] = genres\n",
    "book_ds_csv.head()"
   ]
  },
  {
   "cell_type": "code",
   "execution_count": null,
   "metadata": {},
   "outputs": [],
   "source": [
    "books.head()"
   ]
  },
  {
   "cell_type": "code",
   "execution_count": null,
   "metadata": {},
   "outputs": [],
   "source": [
    "book_ds_csv.to_csv('Survey_Dataset.csv',index=False)"
   ]
  },
  {
   "cell_type": "code",
   "execution_count": null,
   "metadata": {
    "scrolled": true
   },
   "outputs": [],
   "source": [
    "survey_data = pd.read_excel('Consolidated_Survey_Response.xlsx')\n",
    "survey_data.head(20)"
   ]
  },
  {
   "cell_type": "code",
   "execution_count": null,
   "metadata": {},
   "outputs": [],
   "source": [
    "survey_data['Actual_Rating'].hist(bins= 50)"
   ]
  },
  {
   "cell_type": "code",
   "execution_count": null,
   "metadata": {},
   "outputs": [],
   "source": [
    "accuracy_score = []\n",
    "user = []\n",
    "def estimation_score(userID):\n",
    "    final_list = list(filter(lambda x: (x>maxRating_book/2+1) , survey_data.loc[survey_data['UserID']==userID]['Actual_Rating']))\n",
    "    size = len(survey_data.loc[survey_data['UserID']==userID]['Actual_Rating'])\n",
    "    user.append(userID)\n",
    "    accuracy_score.append(len(final_list)/size)\n",
    "users_survey = survey_data['UserID'].unique()\n",
    "for i in range(len(users_survey)):\n",
    "    estimation_score(users_survey[i])\n",
    "    \n",
    "evaluation_ds = pd.DataFrame(columns=['userId','score'])\n",
    "evaluation_ds['userId'] = user\n",
    "evaluation_ds['score'] = accuracy_score\n",
    "print(evaluation_ds)"
   ]
  },
  {
   "cell_type": "code",
   "execution_count": null,
   "metadata": {
    "scrolled": true
   },
   "outputs": [],
   "source": [
    "import matplotlib.pyplot as plt\n",
    "import numpy as np\n",
    "evaluation_ds.plot.bar(y='score',x = 'userId')"
   ]
  },
  {
   "cell_type": "code",
   "execution_count": null,
   "metadata": {
    "scrolled": false
   },
   "outputs": [],
   "source": [
    "#evaluate_books = pd.DataFrame(columns=['genres','books','book_genres'])\n",
    "evaluate_books = pd.merge(survey_data,books,left_on='book_title',right_on ='book_title',how='left')\n",
    "evaluate_books = evaluate_books.drop(columns =['book_rating'])\n",
    "evaluate_books = evaluate_books.dropna()\n",
    "evaluate_books.head(40)"
   ]
  },
  {
   "cell_type": "code",
   "execution_count": null,
   "metadata": {},
   "outputs": [],
   "source": [
    "evaluate_books['genres'] = evaluate_books['genres'].str.join(',')\n",
    "evaluate_books.head()"
   ]
  },
  {
   "cell_type": "code",
   "execution_count": null,
   "metadata": {
    "scrolled": false
   },
   "outputs": [],
   "source": [
    "def get_genres(userID):\n",
    "    genres_of_rec_books = evaluate_books.loc[evaluate_books['UserID']==userID]['genres']\n",
    "    return genres_of_rec_books\n",
    "rec_genres_matrix =get_genres(1)\n",
    "\n",
    "print(rec_genres_matrix)\n",
    "from sklearn.feature_extraction.text import TfidfVectorizer\n",
    "from sklearn.metrics.pairwise import pairwise_kernels\n",
    "\n",
    "# Finding Cosine similarity between books.\n",
    "tfidf_vectorizer = TfidfVectorizer()\n",
    "tfidf_matrix = tfidf_vectorizer.fit_transform(rec_genres_matrix)\n",
    "linear_similarity_matrix =  pairwise_kernels(tfidf_matrix, tfidf_matrix, metric='linear')\n",
    "print(linear_similarity_matrix)"
   ]
  },
  {
   "cell_type": "code",
   "execution_count": null,
   "metadata": {},
   "outputs": [],
   "source": [
    "%matplotlib inline\n",
    "import matplotlib.pylab as plt\n",
    "import seaborn as sns\n",
    "sns.heatmap(linear_similarity_matrix)"
   ]
  },
  {
   "cell_type": "code",
   "execution_count": null,
   "metadata": {
    "scrolled": true
   },
   "outputs": [],
   "source": [
    "rbf_similarity_matrix =  pairwise_kernels(tfidf_matrix, tfidf_matrix, metric='rbf')\n",
    "sns.heatmap(rbf_similarity_matrix)"
   ]
  },
  {
   "cell_type": "code",
   "execution_count": null,
   "metadata": {
    "scrolled": true
   },
   "outputs": [],
   "source": [
    "sigmoid_similarity_matrix =  pairwise_kernels(tfidf_matrix, tfidf_matrix, metric='sigmoid')\n",
    "sns.heatmap(sigmoid_similarity_matrix)"
   ]
  },
  {
   "cell_type": "code",
   "execution_count": null,
   "metadata": {},
   "outputs": [],
   "source": [
    "laplacian_similarity_matrix =  pairwise_kernels(tfidf_matrix, tfidf_matrix, metric='laplacian')\n",
    "sns.heatmap(laplacian_similarity_matrix)"
   ]
  },
  {
   "cell_type": "code",
   "execution_count": null,
   "metadata": {},
   "outputs": [],
   "source": [
    "import qgrid\n",
    "qwidget = qgrid.show_grid(Output_data,show_toolbar=True)\n",
    "qwidget"
   ]
  },
  {
   "cell_type": "code",
   "execution_count": null,
   "metadata": {},
   "outputs": [],
   "source": [
    "qwidget2 = qgrid.show_grid(evaluate_books,show_toolbar=True)\n",
    "qwidget2"
   ]
  }
 ],
 "metadata": {
  "kernelspec": {
   "display_name": "Python 2",
   "language": "python",
   "name": "python2"
  },
  "language_info": {
   "codemirror_mode": {
    "name": "ipython",
    "version": 2
   },
   "file_extension": ".py",
   "mimetype": "text/x-python",
   "name": "python",
   "nbconvert_exporter": "python",
   "pygments_lexer": "ipython2",
   "version": "2.7.16"
  }
 },
 "nbformat": 4,
 "nbformat_minor": 2
}
