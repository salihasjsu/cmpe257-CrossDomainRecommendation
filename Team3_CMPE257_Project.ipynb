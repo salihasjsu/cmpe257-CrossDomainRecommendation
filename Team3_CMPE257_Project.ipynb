{
 "cells": [
  {
   "cell_type": "code",
   "execution_count": 1,
   "metadata": {
    "scrolled": false
   },
   "outputs": [],
   "source": [
    "import pandas as pd\n",
    "import numpy as np\n",
    "import random\n",
    "import matplotlib.pyplot as plt\n",
    "%matplotlib inline\n",
    "import qgrid\n",
    "from sklearn.feature_extraction.text import TfidfVectorizer\n",
    "from sklearn.metrics.pairwise import pairwise_kernels\n",
    "import seaborn as sns"
   ]
  },
  {
   "cell_type": "markdown",
   "metadata": {},
   "source": [
    "### Source Domain"
   ]
  },
  {
   "cell_type": "code",
   "execution_count": 2,
   "metadata": {},
   "outputs": [
    {
     "data": {
      "text/html": [
       "<div>\n",
       "<style scoped>\n",
       "    .dataframe tbody tr th:only-of-type {\n",
       "        vertical-align: middle;\n",
       "    }\n",
       "\n",
       "    .dataframe tbody tr th {\n",
       "        vertical-align: top;\n",
       "    }\n",
       "\n",
       "    .dataframe thead th {\n",
       "        text-align: right;\n",
       "    }\n",
       "</style>\n",
       "<table border=\"1\" class=\"dataframe\">\n",
       "  <thead>\n",
       "    <tr style=\"text-align: right;\">\n",
       "      <th></th>\n",
       "      <th>userId</th>\n",
       "      <th>movieId</th>\n",
       "      <th>rating</th>\n",
       "    </tr>\n",
       "  </thead>\n",
       "  <tbody>\n",
       "    <tr>\n",
       "      <th>0</th>\n",
       "      <td>1</td>\n",
       "      <td>2</td>\n",
       "      <td>3.5</td>\n",
       "    </tr>\n",
       "    <tr>\n",
       "      <th>1</th>\n",
       "      <td>1</td>\n",
       "      <td>29</td>\n",
       "      <td>3.5</td>\n",
       "    </tr>\n",
       "    <tr>\n",
       "      <th>2</th>\n",
       "      <td>1</td>\n",
       "      <td>32</td>\n",
       "      <td>3.5</td>\n",
       "    </tr>\n",
       "    <tr>\n",
       "      <th>3</th>\n",
       "      <td>1</td>\n",
       "      <td>47</td>\n",
       "      <td>3.5</td>\n",
       "    </tr>\n",
       "    <tr>\n",
       "      <th>4</th>\n",
       "      <td>1</td>\n",
       "      <td>50</td>\n",
       "      <td>3.5</td>\n",
       "    </tr>\n",
       "  </tbody>\n",
       "</table>\n",
       "</div>"
      ],
      "text/plain": [
       "   userId  movieId  rating\n",
       "0       1        2     3.5\n",
       "1       1       29     3.5\n",
       "2       1       32     3.5\n",
       "3       1       47     3.5\n",
       "4       1       50     3.5"
      ]
     },
     "execution_count": 2,
     "metadata": {},
     "output_type": "execute_result"
    }
   ],
   "source": [
    "rating_dataset = pd.read_csv(\"ratings.csv\")\n",
    "rating_dataset = rating_dataset.drop(columns =['timestamp'])\n",
    "rating_dataset.head()"
   ]
  },
  {
   "cell_type": "code",
   "execution_count": 3,
   "metadata": {},
   "outputs": [
    {
     "data": {
      "text/html": [
       "<div>\n",
       "<style scoped>\n",
       "    .dataframe tbody tr th:only-of-type {\n",
       "        vertical-align: middle;\n",
       "    }\n",
       "\n",
       "    .dataframe tbody tr th {\n",
       "        vertical-align: top;\n",
       "    }\n",
       "\n",
       "    .dataframe thead th {\n",
       "        text-align: right;\n",
       "    }\n",
       "</style>\n",
       "<table border=\"1\" class=\"dataframe\">\n",
       "  <thead>\n",
       "    <tr style=\"text-align: right;\">\n",
       "      <th></th>\n",
       "      <th>movieId</th>\n",
       "      <th>title</th>\n",
       "      <th>genres</th>\n",
       "    </tr>\n",
       "  </thead>\n",
       "  <tbody>\n",
       "    <tr>\n",
       "      <th>0</th>\n",
       "      <td>1</td>\n",
       "      <td>Toy Story (1995)</td>\n",
       "      <td>Adventure|Animation|Children|Comedy|Fantasy</td>\n",
       "    </tr>\n",
       "    <tr>\n",
       "      <th>1</th>\n",
       "      <td>2</td>\n",
       "      <td>Jumanji (1995)</td>\n",
       "      <td>Adventure|Children|Fantasy</td>\n",
       "    </tr>\n",
       "    <tr>\n",
       "      <th>2</th>\n",
       "      <td>3</td>\n",
       "      <td>Grumpier Old Men (1995)</td>\n",
       "      <td>Comedy|Romance</td>\n",
       "    </tr>\n",
       "    <tr>\n",
       "      <th>3</th>\n",
       "      <td>4</td>\n",
       "      <td>Waiting to Exhale (1995)</td>\n",
       "      <td>Comedy|Drama|Romance</td>\n",
       "    </tr>\n",
       "    <tr>\n",
       "      <th>4</th>\n",
       "      <td>5</td>\n",
       "      <td>Father of the Bride Part II (1995)</td>\n",
       "      <td>Comedy</td>\n",
       "    </tr>\n",
       "  </tbody>\n",
       "</table>\n",
       "</div>"
      ],
      "text/plain": [
       "   movieId                               title  \\\n",
       "0        1                    Toy Story (1995)   \n",
       "1        2                      Jumanji (1995)   \n",
       "2        3             Grumpier Old Men (1995)   \n",
       "3        4            Waiting to Exhale (1995)   \n",
       "4        5  Father of the Bride Part II (1995)   \n",
       "\n",
       "                                        genres  \n",
       "0  Adventure|Animation|Children|Comedy|Fantasy  \n",
       "1                   Adventure|Children|Fantasy  \n",
       "2                               Comedy|Romance  \n",
       "3                         Comedy|Drama|Romance  \n",
       "4                                       Comedy  "
      ]
     },
     "execution_count": 3,
     "metadata": {},
     "output_type": "execute_result"
    }
   ],
   "source": [
    "movie_dataset = pd.read_csv(\"movies.csv\")\n",
    "movie_dataset.head()"
   ]
  },
  {
   "cell_type": "code",
   "execution_count": 4,
   "metadata": {},
   "outputs": [
    {
     "data": {
      "text/html": [
       "<div>\n",
       "<style scoped>\n",
       "    .dataframe tbody tr th:only-of-type {\n",
       "        vertical-align: middle;\n",
       "    }\n",
       "\n",
       "    .dataframe tbody tr th {\n",
       "        vertical-align: top;\n",
       "    }\n",
       "\n",
       "    .dataframe thead th {\n",
       "        text-align: right;\n",
       "    }\n",
       "</style>\n",
       "<table border=\"1\" class=\"dataframe\">\n",
       "  <thead>\n",
       "    <tr style=\"text-align: right;\">\n",
       "      <th></th>\n",
       "      <th>userId</th>\n",
       "      <th>movieId</th>\n",
       "      <th>rating</th>\n",
       "      <th>title</th>\n",
       "      <th>genres</th>\n",
       "    </tr>\n",
       "  </thead>\n",
       "  <tbody>\n",
       "    <tr>\n",
       "      <th>0</th>\n",
       "      <td>1</td>\n",
       "      <td>2</td>\n",
       "      <td>3.5</td>\n",
       "      <td>Jumanji (1995)</td>\n",
       "      <td>Adventure|Children|Fantasy</td>\n",
       "    </tr>\n",
       "    <tr>\n",
       "      <th>1</th>\n",
       "      <td>1</td>\n",
       "      <td>29</td>\n",
       "      <td>3.5</td>\n",
       "      <td>City of Lost Children, The (Cité des enfants p...</td>\n",
       "      <td>Adventure|Drama|Fantasy|Mystery|Sci-Fi</td>\n",
       "    </tr>\n",
       "    <tr>\n",
       "      <th>2</th>\n",
       "      <td>1</td>\n",
       "      <td>32</td>\n",
       "      <td>3.5</td>\n",
       "      <td>Twelve Monkeys (a.k.a. 12 Monkeys) (1995)</td>\n",
       "      <td>Mystery|Sci-Fi|Thriller</td>\n",
       "    </tr>\n",
       "    <tr>\n",
       "      <th>3</th>\n",
       "      <td>2</td>\n",
       "      <td>3</td>\n",
       "      <td>4.0</td>\n",
       "      <td>Grumpier Old Men (1995)</td>\n",
       "      <td>Comedy|Romance</td>\n",
       "    </tr>\n",
       "    <tr>\n",
       "      <th>4</th>\n",
       "      <td>2</td>\n",
       "      <td>62</td>\n",
       "      <td>5.0</td>\n",
       "      <td>Mr. Holland's Opus (1995)</td>\n",
       "      <td>Drama</td>\n",
       "    </tr>\n",
       "    <tr>\n",
       "      <th>5</th>\n",
       "      <td>3</td>\n",
       "      <td>1</td>\n",
       "      <td>4.0</td>\n",
       "      <td>Toy Story (1995)</td>\n",
       "      <td>Adventure|Animation|Children|Comedy|Fantasy</td>\n",
       "    </tr>\n",
       "  </tbody>\n",
       "</table>\n",
       "</div>"
      ],
      "text/plain": [
       "   userId  movieId  rating                                              title  \\\n",
       "0       1        2     3.5                                     Jumanji (1995)   \n",
       "1       1       29     3.5  City of Lost Children, The (Cité des enfants p...   \n",
       "2       1       32     3.5          Twelve Monkeys (a.k.a. 12 Monkeys) (1995)   \n",
       "3       2        3     4.0                            Grumpier Old Men (1995)   \n",
       "4       2       62     5.0                          Mr. Holland's Opus (1995)   \n",
       "5       3        1     4.0                                   Toy Story (1995)   \n",
       "\n",
       "                                        genres  \n",
       "0                   Adventure|Children|Fantasy  \n",
       "1       Adventure|Drama|Fantasy|Mystery|Sci-Fi  \n",
       "2                      Mystery|Sci-Fi|Thriller  \n",
       "3                               Comedy|Romance  \n",
       "4                                        Drama  \n",
       "5  Adventure|Animation|Children|Comedy|Fantasy  "
      ]
     },
     "execution_count": 4,
     "metadata": {},
     "output_type": "execute_result"
    }
   ],
   "source": [
    "data = pd.merge(rating_dataset,movie_dataset, left_on='movieId',right_on ='movieId',how='left') \n",
    "unique_user = np.unique(data['userId'])\n",
    "count =0 \n",
    "final_data = pd.DataFrame(columns = ['userId','movieId','rating','title','genres'])\n",
    "for i in range(len(unique_user)):\n",
    "    if unique_user[count] <= 100:\n",
    "        rows = data.loc[data['userId'] == unique_user[count]].head(random.randrange(2, 4))\n",
    "        new_data = pd.DataFrame(np.array(rows),columns=['userId','movieId','rating','title','genres'])\n",
    "        final_data = final_data.append(new_data)\n",
    "        count += 1\n",
    "    else:\n",
    "        break\n",
    "final_data = final_data.reset_index(drop=True)\n",
    "final_data = final_data.astype({\"userId\": int, \"movieId\": int,'rating': float, 'title':str, 'genres':str })    \n",
    "final_data.to_csv('Final_Dataset.csv',index=False)\n",
    "final_data.head(6)"
   ]
  },
  {
   "cell_type": "markdown",
   "metadata": {},
   "source": [
    "### Data Visualization"
   ]
  },
  {
   "cell_type": "code",
   "execution_count": 5,
   "metadata": {},
   "outputs": [
    {
     "data": {
      "image/png": "[encoded data removed]",
      "text/plain": [
       "<Figure size 432x288 with 1 Axes>"
      ]
     },
     "metadata": {
      "needs_background": "light"
     },
     "output_type": "display_data"
    }
   ],
   "source": [
    "final_data.plot.scatter(x='rating', y='userId')                         #Plotting rating vs userId\n",
    "plt.xlabel('rating')\n",
    "plt.ylabel('userId')\n",
    "plt.show()"
   ]
  },
  {
   "cell_type": "code",
   "execution_count": 6,
   "metadata": {
    "scrolled": true
   },
   "outputs": [
    {
     "data": {
      "image/png": "[encoded data removed]",
      "text/plain": [
       "<Figure size 432x288 with 1 Axes>"
      ]
     },
     "metadata": {
      "needs_background": "light"
     },
     "output_type": "display_data"
    }
   ],
   "source": [
    "final_data['userId'].hist(bins= 50)                                     #Plotting userId vs frequency\n",
    "plt.xlabel('userId')\n",
    "plt.ylabel('frequency')\n",
    "plt.show()"
   ]
  },
  {
   "cell_type": "code",
   "execution_count": 7,
   "metadata": {},
   "outputs": [
    {
     "data": {
      "image/png": "[encoded data removed]",
      "text/plain": [
       "<Figure size 1440x1800 with 1 Axes>"
      ]
     },
     "metadata": {
      "needs_background": "light"
     },
     "output_type": "display_data"
    }
   ],
   "source": [
    "final_data['movieId'].value_counts().head(30).plot(kind='bar',figsize =(20,25))     #Plotting moveId vs count\n",
    "plt.xlabel('movieId')\n",
    "plt.ylabel('count')\n",
    "plt.show()"
   ]
  },
  {
   "cell_type": "code",
   "execution_count": 8,
   "metadata": {
    "scrolled": false
   },
   "outputs": [
    {
     "data": {
      "image/png": "[encoded data removed]",
      "text/plain": [
       "<Figure size 360x360 with 1 Axes>"
      ]
     },
     "metadata": {
      "needs_background": "light"
     },
     "output_type": "display_data"
    }
   ],
   "source": [
    "final_data['genres'].value_counts().sample(15).plot(kind='barh',figsize =(5,5))    #Plotting movie genres vs count\n",
    "plt.xlabel('count')\n",
    "plt.ylabel('Movie Genres')\n",
    "plt.show()"
   ]
  },
  {
   "cell_type": "markdown",
   "metadata": {},
   "source": [
    "### Data Pre-Processing"
   ]
  },
  {
   "cell_type": "code",
   "execution_count": 9,
   "metadata": {},
   "outputs": [],
   "source": [
    "final_data = pd.read_csv(\"Final_Dataset.csv\")"
   ]
  },
  {
   "cell_type": "code",
   "execution_count": 10,
   "metadata": {},
   "outputs": [
    {
     "data": {
      "text/plain": [
       "False"
      ]
     },
     "execution_count": 10,
     "metadata": {},
     "output_type": "execute_result"
    }
   ],
   "source": [
    "final_data.isnull().values.any()                   # check if there is any data in any column missing or not available"
   ]
  },
  {
   "cell_type": "code",
   "execution_count": 11,
   "metadata": {},
   "outputs": [
    {
     "data": {
      "text/html": [
       "<div>\n",
       "<style scoped>\n",
       "    .dataframe tbody tr th:only-of-type {\n",
       "        vertical-align: middle;\n",
       "    }\n",
       "\n",
       "    .dataframe tbody tr th {\n",
       "        vertical-align: top;\n",
       "    }\n",
       "\n",
       "    .dataframe thead th {\n",
       "        text-align: right;\n",
       "    }\n",
       "</style>\n",
       "<table border=\"1\" class=\"dataframe\">\n",
       "  <thead>\n",
       "    <tr style=\"text-align: right;\">\n",
       "      <th></th>\n",
       "      <th>userId</th>\n",
       "      <th>movieId</th>\n",
       "      <th>rating</th>\n",
       "      <th>title</th>\n",
       "      <th>genres</th>\n",
       "    </tr>\n",
       "  </thead>\n",
       "  <tbody>\n",
       "    <tr>\n",
       "      <th>0</th>\n",
       "      <td>1</td>\n",
       "      <td>2</td>\n",
       "      <td>3.5</td>\n",
       "      <td>Jumanji (1995)</td>\n",
       "      <td>Adventure|Children|Fantasy</td>\n",
       "    </tr>\n",
       "    <tr>\n",
       "      <th>1</th>\n",
       "      <td>1</td>\n",
       "      <td>29</td>\n",
       "      <td>3.5</td>\n",
       "      <td>City of Lost Children, The (Cité des enfants p...</td>\n",
       "      <td>Adventure|Drama|Fantasy|Mystery|Sci-Fi</td>\n",
       "    </tr>\n",
       "    <tr>\n",
       "      <th>2</th>\n",
       "      <td>1</td>\n",
       "      <td>32</td>\n",
       "      <td>3.5</td>\n",
       "      <td>Twelve Monkeys (a.k.a. 12 Monkeys) (1995)</td>\n",
       "      <td>Mystery|Sci-Fi|Thriller</td>\n",
       "    </tr>\n",
       "    <tr>\n",
       "      <th>3</th>\n",
       "      <td>2</td>\n",
       "      <td>62</td>\n",
       "      <td>5.0</td>\n",
       "      <td>Mr. Holland's Opus (1995)</td>\n",
       "      <td>Drama</td>\n",
       "    </tr>\n",
       "    <tr>\n",
       "      <th>4</th>\n",
       "      <td>2</td>\n",
       "      <td>3</td>\n",
       "      <td>4.0</td>\n",
       "      <td>Grumpier Old Men (1995)</td>\n",
       "      <td>Comedy|Romance</td>\n",
       "    </tr>\n",
       "  </tbody>\n",
       "</table>\n",
       "</div>"
      ],
      "text/plain": [
       "   userId  movieId  rating                                              title  \\\n",
       "0       1        2     3.5                                     Jumanji (1995)   \n",
       "1       1       29     3.5  City of Lost Children, The (Cité des enfants p...   \n",
       "2       1       32     3.5          Twelve Monkeys (a.k.a. 12 Monkeys) (1995)   \n",
       "3       2       62     5.0                          Mr. Holland's Opus (1995)   \n",
       "4       2        3     4.0                            Grumpier Old Men (1995)   \n",
       "\n",
       "                                   genres  \n",
       "0              Adventure|Children|Fantasy  \n",
       "1  Adventure|Drama|Fantasy|Mystery|Sci-Fi  \n",
       "2                 Mystery|Sci-Fi|Thriller  \n",
       "3                                   Drama  \n",
       "4                          Comedy|Romance  "
      ]
     },
     "execution_count": 11,
     "metadata": {},
     "output_type": "execute_result"
    }
   ],
   "source": [
    "# find threshold by averging the movie ratings\n",
    "# get only top5 rated movies per user,threshold is 4.5\n",
    "\n",
    "maxRating = final_data.loc[final_data['rating'].idxmax()]['rating'] \n",
    "toprated_user_movies = final_data.loc[final_data['rating'] >= maxRating/2+1]\n",
    "toprated_user_movies = toprated_user_movies.sort_values(['userId','rating'],ascending=[True,False])\n",
    "toprated_user_movies.reset_index(inplace=True, drop=True)\n",
    "toprated_user_movies.head()\n",
    "\n",
    "# checking if user has rated a movie multiple times\n",
    "#toprated_user_movies.duplicated(subset=['userId','movieId'])\n",
    "# actual data is 20000263 after this step it is 646297"
   ]
  },
  {
   "cell_type": "code",
   "execution_count": 12,
   "metadata": {},
   "outputs": [
    {
     "name": "stdout",
     "output_type": "stream",
     "text": [
      "40\n"
     ]
    }
   ],
   "source": [
    "#Extracting Unique Genres\n",
    "\n",
    "unique_genres_pre = pd.DataFrame(columns=['genres'])\n",
    "unique_genres_pre['genres'] = toprated_user_movies['genres'].unique()\n",
    "unique_genres_pre['genres'] = unique_genres_pre['genres'].str.split('|')\n",
    "unique_genres = unique_genres_pre['genres']\n",
    "print(len(unique_genres))"
   ]
  },
  {
   "cell_type": "code",
   "execution_count": 13,
   "metadata": {
    "scrolled": false
   },
   "outputs": [
    {
     "data": {
      "application/vnd.jupyter.widget-view+json": {
       "model_id": "d78f808239e2472d815651ca68c3966b",
       "version_major": 2,
       "version_minor": 0
      },
      "text/plain": [
       "QgridWidget(grid_options={'fullWidthRows': True, 'syncColumnCellResize': True, 'forceFitColumns': True, 'defau…"
      ]
     },
     "metadata": {},
     "output_type": "display_data"
    }
   ],
   "source": [
    "# Break up the big genre string into a string array\n",
    "\n",
    "toprated_user_movies['genres'] = toprated_user_movies['genres'].str.split('|')\n",
    "\n",
    "# Convert genres to string value\n",
    "\n",
    "toprated_user_movies['genres'] = toprated_user_movies['genres'].str.join(',')\n",
    "toprated_user_movies.head()\n",
    "\n",
    "qwidget2 = qgrid.show_grid(toprated_user_movies,show_toolbar=True)\n",
    "qwidget2\n",
    "\n"
   ]
  },
  {
   "cell_type": "markdown",
   "metadata": {},
   "source": [
    "### Target Domain"
   ]
  },
  {
   "cell_type": "code",
   "execution_count": 14,
   "metadata": {
    "scrolled": true
   },
   "outputs": [
    {
     "data": {
      "text/html": [
       "<div>\n",
       "<style scoped>\n",
       "    .dataframe tbody tr th:only-of-type {\n",
       "        vertical-align: middle;\n",
       "    }\n",
       "\n",
       "    .dataframe tbody tr th {\n",
       "        vertical-align: top;\n",
       "    }\n",
       "\n",
       "    .dataframe thead th {\n",
       "        text-align: right;\n",
       "    }\n",
       "</style>\n",
       "<table border=\"1\" class=\"dataframe\">\n",
       "  <thead>\n",
       "    <tr style=\"text-align: right;\">\n",
       "      <th></th>\n",
       "      <th>book_authors</th>\n",
       "      <th>book_desc</th>\n",
       "      <th>book_edition</th>\n",
       "      <th>book_format</th>\n",
       "      <th>book_isbn</th>\n",
       "      <th>book_pages</th>\n",
       "      <th>book_rating</th>\n",
       "      <th>book_rating_count</th>\n",
       "      <th>book_review_count</th>\n",
       "      <th>book_title</th>\n",
       "      <th>genres</th>\n",
       "      <th>image_url</th>\n",
       "    </tr>\n",
       "  </thead>\n",
       "  <tbody>\n",
       "    <tr>\n",
       "      <th>0</th>\n",
       "      <td>Suzanne Collins</td>\n",
       "      <td>Winning will make you famous. Losing means cer...</td>\n",
       "      <td>NaN</td>\n",
       "      <td>Hardcover</td>\n",
       "      <td>9.78044E+12</td>\n",
       "      <td>374 pages</td>\n",
       "      <td>4.33</td>\n",
       "      <td>5519135</td>\n",
       "      <td>160706</td>\n",
       "      <td>The Hunger Games</td>\n",
       "      <td>Young Adult|Fiction|Science Fiction|Dystopia|F...</td>\n",
       "      <td>https://images.gr-assets.com/books/1447303603l...</td>\n",
       "    </tr>\n",
       "    <tr>\n",
       "      <th>1</th>\n",
       "      <td>J.K. Rowling|Mary GrandPré</td>\n",
       "      <td>There is a door at the end of a silent corrido...</td>\n",
       "      <td>US Edition</td>\n",
       "      <td>Paperback</td>\n",
       "      <td>9.78044E+12</td>\n",
       "      <td>870 pages</td>\n",
       "      <td>4.48</td>\n",
       "      <td>2041594</td>\n",
       "      <td>33264</td>\n",
       "      <td>Harry Potter and the Order of the Phoenix</td>\n",
       "      <td>Fantasy|Young Adult|Fiction</td>\n",
       "      <td>https://images.gr-assets.com/books/1255614970l...</td>\n",
       "    </tr>\n",
       "    <tr>\n",
       "      <th>2</th>\n",
       "      <td>Harper Lee</td>\n",
       "      <td>The unforgettable novel of a childhood in a sl...</td>\n",
       "      <td>50th Anniversary</td>\n",
       "      <td>Paperback</td>\n",
       "      <td>9.78006E+12</td>\n",
       "      <td>324 pages</td>\n",
       "      <td>4.27</td>\n",
       "      <td>3745197</td>\n",
       "      <td>79450</td>\n",
       "      <td>To Kill a Mockingbird</td>\n",
       "      <td>Classics|Fiction|Historical|Historical Fiction...</td>\n",
       "      <td>https://images.gr-assets.com/books/1361975680l...</td>\n",
       "    </tr>\n",
       "    <tr>\n",
       "      <th>3</th>\n",
       "      <td>Jane Austen|Anna Quindlen|Mrs. Oliphant|George...</td>\n",
       "      <td>«È cosa ormai risaputa che a uno scapolo in po...</td>\n",
       "      <td>Modern Library Classics, USA / CAN</td>\n",
       "      <td>Paperback</td>\n",
       "      <td>9.78068E+12</td>\n",
       "      <td>279 pages</td>\n",
       "      <td>4.25</td>\n",
       "      <td>2453620</td>\n",
       "      <td>54322</td>\n",
       "      <td>Pride and Prejudice</td>\n",
       "      <td>Classics|Fiction|Romance</td>\n",
       "      <td>https://images.gr-assets.com/books/1320399351l...</td>\n",
       "    </tr>\n",
       "    <tr>\n",
       "      <th>4</th>\n",
       "      <td>Stephenie Meyer</td>\n",
       "      <td>About three things I was absolutely positive.F...</td>\n",
       "      <td>NaN</td>\n",
       "      <td>Paperback</td>\n",
       "      <td>9.78032E+12</td>\n",
       "      <td>498 pages</td>\n",
       "      <td>3.58</td>\n",
       "      <td>4281268</td>\n",
       "      <td>97991</td>\n",
       "      <td>Twilight</td>\n",
       "      <td>Young Adult|Fantasy|Romance|Paranormal|Vampire...</td>\n",
       "      <td>https://images.gr-assets.com/books/1361039443l...</td>\n",
       "    </tr>\n",
       "    <tr>\n",
       "      <th>5</th>\n",
       "      <td>Markus Zusak</td>\n",
       "      <td>Trying to make sense of the horrors of World W...</td>\n",
       "      <td>First American Edition (US / CAN)</td>\n",
       "      <td>Hardcover</td>\n",
       "      <td>9.78038E+12</td>\n",
       "      <td>552 pages</td>\n",
       "      <td>4.36</td>\n",
       "      <td>1485632</td>\n",
       "      <td>100821</td>\n",
       "      <td>The Book Thief</td>\n",
       "      <td>Historical|Historical Fiction|Fiction|Young Adult</td>\n",
       "      <td>https://images.gr-assets.com/books/1522157426l...</td>\n",
       "    </tr>\n",
       "  </tbody>\n",
       "</table>\n",
       "</div>"
      ],
      "text/plain": [
       "                                        book_authors  \\\n",
       "0                                    Suzanne Collins   \n",
       "1                         J.K. Rowling|Mary GrandPré   \n",
       "2                                         Harper Lee   \n",
       "3  Jane Austen|Anna Quindlen|Mrs. Oliphant|George...   \n",
       "4                                    Stephenie Meyer   \n",
       "5                                       Markus Zusak   \n",
       "\n",
       "                                           book_desc  \\\n",
       "0  Winning will make you famous. Losing means cer...   \n",
       "1  There is a door at the end of a silent corrido...   \n",
       "2  The unforgettable novel of a childhood in a sl...   \n",
       "3  «È cosa ormai risaputa che a uno scapolo in po...   \n",
       "4  About three things I was absolutely positive.F...   \n",
       "5  Trying to make sense of the horrors of World W...   \n",
       "\n",
       "                         book_edition book_format    book_isbn book_pages  \\\n",
       "0                                 NaN   Hardcover  9.78044E+12  374 pages   \n",
       "1                          US Edition   Paperback  9.78044E+12  870 pages   \n",
       "2                    50th Anniversary   Paperback  9.78006E+12  324 pages   \n",
       "3  Modern Library Classics, USA / CAN   Paperback  9.78068E+12  279 pages   \n",
       "4                                 NaN   Paperback  9.78032E+12  498 pages   \n",
       "5   First American Edition (US / CAN)   Hardcover  9.78038E+12  552 pages   \n",
       "\n",
       "   book_rating  book_rating_count  book_review_count  \\\n",
       "0         4.33            5519135             160706   \n",
       "1         4.48            2041594              33264   \n",
       "2         4.27            3745197              79450   \n",
       "3         4.25            2453620              54322   \n",
       "4         3.58            4281268              97991   \n",
       "5         4.36            1485632             100821   \n",
       "\n",
       "                                  book_title  \\\n",
       "0                           The Hunger Games   \n",
       "1  Harry Potter and the Order of the Phoenix   \n",
       "2                      To Kill a Mockingbird   \n",
       "3                        Pride and Prejudice   \n",
       "4                                   Twilight   \n",
       "5                             The Book Thief   \n",
       "\n",
       "                                              genres  \\\n",
       "0  Young Adult|Fiction|Science Fiction|Dystopia|F...   \n",
       "1                        Fantasy|Young Adult|Fiction   \n",
       "2  Classics|Fiction|Historical|Historical Fiction...   \n",
       "3                           Classics|Fiction|Romance   \n",
       "4  Young Adult|Fantasy|Romance|Paranormal|Vampire...   \n",
       "5  Historical|Historical Fiction|Fiction|Young Adult   \n",
       "\n",
       "                                           image_url  \n",
       "0  https://images.gr-assets.com/books/1447303603l...  \n",
       "1  https://images.gr-assets.com/books/1255614970l...  \n",
       "2  https://images.gr-assets.com/books/1361975680l...  \n",
       "3  https://images.gr-assets.com/books/1320399351l...  \n",
       "4  https://images.gr-assets.com/books/1361039443l...  \n",
       "5  https://images.gr-assets.com/books/1522157426l...  "
      ]
     },
     "execution_count": 14,
     "metadata": {},
     "output_type": "execute_result"
    }
   ],
   "source": [
    "books = pd.read_csv('book_data.csv')\n",
    "books.head(6)"
   ]
  },
  {
   "cell_type": "markdown",
   "metadata": {},
   "source": [
    "### Data Visualization "
   ]
  },
  {
   "cell_type": "code",
   "execution_count": 15,
   "metadata": {},
   "outputs": [
    {
     "name": "stdout",
     "output_type": "stream",
     "text": [
      "54301\n"
     ]
    },
    {
     "data": {
      "image/png": "[encoded data removed]",
      "text/plain": [
       "<Figure size 360x360 with 1 Axes>"
      ]
     },
     "metadata": {
      "needs_background": "light"
     },
     "output_type": "display_data"
    }
   ],
   "source": [
    "print(len(books['genres']))\n",
    "books['genres'].value_counts().sample(10).plot(kind='barh',figsize =(5,5))    #Plotting books genres vs count\n",
    "plt.xlabel('count')\n",
    "plt.ylabel('Books Genres')\n",
    "plt.show()"
   ]
  },
  {
   "cell_type": "code",
   "execution_count": 16,
   "metadata": {},
   "outputs": [
    {
     "data": {
      "text/plain": [
       "Text(0, 0.5, 'frequency')"
      ]
     },
     "execution_count": 16,
     "metadata": {},
     "output_type": "execute_result"
    },
    {
     "data": {
      "image/png": "[encoded data removed]",
      "text/plain": [
       "<Figure size 432x288 with 1 Axes>"
      ]
     },
     "metadata": {
      "needs_background": "light"
     },
     "output_type": "display_data"
    }
   ],
   "source": [
    "books['book_rating'].hist(bins= 50)                                           #Plotting books rating vs frequency\n",
    "plt.xlabel('rating')\n",
    "plt.ylabel('frequency')"
   ]
  },
  {
   "cell_type": "markdown",
   "metadata": {},
   "source": [
    "### Data Pre-processing"
   ]
  },
  {
   "cell_type": "code",
   "execution_count": 17,
   "metadata": {
    "scrolled": false
   },
   "outputs": [
    {
     "data": {
      "text/html": [
       "<div>\n",
       "<style scoped>\n",
       "    .dataframe tbody tr th:only-of-type {\n",
       "        vertical-align: middle;\n",
       "    }\n",
       "\n",
       "    .dataframe tbody tr th {\n",
       "        vertical-align: top;\n",
       "    }\n",
       "\n",
       "    .dataframe thead th {\n",
       "        text-align: right;\n",
       "    }\n",
       "</style>\n",
       "<table border=\"1\" class=\"dataframe\">\n",
       "  <thead>\n",
       "    <tr style=\"text-align: right;\">\n",
       "      <th></th>\n",
       "      <th>book_title</th>\n",
       "      <th>genres</th>\n",
       "      <th>book_rating</th>\n",
       "    </tr>\n",
       "  </thead>\n",
       "  <tbody>\n",
       "    <tr>\n",
       "      <th>0</th>\n",
       "      <td>الأيام</td>\n",
       "      <td>[Biography]</td>\n",
       "      <td>3.53</td>\n",
       "    </tr>\n",
       "    <tr>\n",
       "      <th>1</th>\n",
       "      <td>Biological Big Bang: Panspermia and the Origin...</td>\n",
       "      <td>[Nonfiction]</td>\n",
       "      <td>4.50</td>\n",
       "    </tr>\n",
       "    <tr>\n",
       "      <th>2</th>\n",
       "      <td>Mugglenet.Com's What Will Happen in Harry Pott...</td>\n",
       "      <td>[Nonfiction]</td>\n",
       "      <td>4.20</td>\n",
       "    </tr>\n",
       "    <tr>\n",
       "      <th>3</th>\n",
       "      <td>Crónica del rey cautivo (El último Qassatar, #1)</td>\n",
       "      <td>[Fantasy]</td>\n",
       "      <td>4.13</td>\n",
       "    </tr>\n",
       "    <tr>\n",
       "      <th>4</th>\n",
       "      <td>Here Before Kilroy</td>\n",
       "      <td>[Fiction]</td>\n",
       "      <td>5.00</td>\n",
       "    </tr>\n",
       "  </tbody>\n",
       "</table>\n",
       "</div>"
      ],
      "text/plain": [
       "                                          book_title        genres  \\\n",
       "0                                             الأيام   [Biography]   \n",
       "1  Biological Big Bang: Panspermia and the Origin...  [Nonfiction]   \n",
       "2  Mugglenet.Com's What Will Happen in Harry Pott...  [Nonfiction]   \n",
       "3   Crónica del rey cautivo (El último Qassatar, #1)     [Fantasy]   \n",
       "4                                 Here Before Kilroy     [Fiction]   \n",
       "\n",
       "   book_rating  \n",
       "0         3.53  \n",
       "1         4.50  \n",
       "2         4.20  \n",
       "3         4.13  \n",
       "4         5.00  "
      ]
     },
     "execution_count": 17,
     "metadata": {},
     "output_type": "execute_result"
    }
   ],
   "source": [
    "#target domain\n",
    "\n",
    "books = pd.read_csv('book_data.csv')\n",
    "books = books[['book_title','genres','book_rating']]\n",
    "books = books.dropna(how='any', axis=0)\n",
    "\n",
    "# Break up the big genre string into a string array\n",
    "\n",
    "books['genres'] = books['genres'].str.split('|')\n",
    "\n",
    "# Convert genres to string value\n",
    "\n",
    "books['genres'] = np.array(books['genres'])\n",
    "books['length'] = books['genres'].str.len()\n",
    "books = books.sort_values(['length'])\n",
    "books = books.drop(columns = ['length'])\n",
    "maxRating_book = books.loc[books['book_rating'].idxmax()]['book_rating'] \n",
    "books = books.loc[books['book_rating'] >= maxRating_book/2+1]\n",
    "books.reset_index(inplace=True, drop=True)\n",
    "books.head(5)"
   ]
  },
  {
   "cell_type": "markdown",
   "metadata": {},
   "source": [
    "### Training the Model "
   ]
  },
  {
   "cell_type": "code",
   "execution_count": 18,
   "metadata": {},
   "outputs": [],
   "source": [
    " # finding intersection and recommending books\n",
    "    \n",
    "def book_basedon_movie(genre):\n",
    "    data = []\n",
    "    book_titles = []\n",
    "    scores = []\n",
    "    ratings = []\n",
    "    book_genres = []\n",
    "    for i,row in books.iterrows():\n",
    "        movies_set = set(genre)\n",
    "        books_set = set(row.genres)\n",
    "        intersection = movies_set.intersection(books_set)\n",
    "        book_titles.append(row.book_title)\n",
    "        ratings.append(row.book_rating)\n",
    "        book_genres.append(row.genres)\n",
    "        scores.append(float(len(intersection))/(len(movies_set)+len(books_set)-len(intersection)))\n",
    "    final = pd.DataFrame(columns = ['book_title','score','ratings','book_genres'])\n",
    "    final['book_title'] = book_titles\n",
    "    final['score'] = scores\n",
    "    final['ratings'] = ratings\n",
    "    final['book_genres'] = book_genres\n",
    "    return final"
   ]
  },
  {
   "cell_type": "code",
   "execution_count": 19,
   "metadata": {
    "scrolled": true
   },
   "outputs": [
    {
     "data": {
      "text/html": [
       "<div>\n",
       "<style scoped>\n",
       "    .dataframe tbody tr th:only-of-type {\n",
       "        vertical-align: middle;\n",
       "    }\n",
       "\n",
       "    .dataframe tbody tr th {\n",
       "        vertical-align: top;\n",
       "    }\n",
       "\n",
       "    .dataframe thead th {\n",
       "        text-align: right;\n",
       "    }\n",
       "</style>\n",
       "<table border=\"1\" class=\"dataframe\">\n",
       "  <thead>\n",
       "    <tr style=\"text-align: right;\">\n",
       "      <th></th>\n",
       "      <th>genres</th>\n",
       "      <th>books</th>\n",
       "    </tr>\n",
       "  </thead>\n",
       "  <tbody>\n",
       "    <tr>\n",
       "      <th>0</th>\n",
       "      <td>Adventure,Children,Fantasy</td>\n",
       "      <td>Selections from Harry Potter and the Order of ...</td>\n",
       "    </tr>\n",
       "    <tr>\n",
       "      <th>1</th>\n",
       "      <td>Adventure,Drama,Fantasy,Mystery,Sci-Fi</td>\n",
       "      <td>The 39 Clues Complete Collection,This Book Is ...</td>\n",
       "    </tr>\n",
       "    <tr>\n",
       "      <th>2</th>\n",
       "      <td>Mystery,Sci-Fi,Thriller</td>\n",
       "      <td>Shannon's Land,Rain of Terror,Repercussions,Do...</td>\n",
       "    </tr>\n",
       "    <tr>\n",
       "      <th>3</th>\n",
       "      <td>Drama</td>\n",
       "      <td>Miss Perfect,Bluesday,Gabriel's Gate,Diabulus ...</td>\n",
       "    </tr>\n",
       "    <tr>\n",
       "      <th>4</th>\n",
       "      <td>Comedy,Romance</td>\n",
       "      <td>Shadowed Love,Illusory Love IV,Grosvenor Squar...</td>\n",
       "    </tr>\n",
       "  </tbody>\n",
       "</table>\n",
       "</div>"
      ],
      "text/plain": [
       "                                   genres  \\\n",
       "0              Adventure,Children,Fantasy   \n",
       "1  Adventure,Drama,Fantasy,Mystery,Sci-Fi   \n",
       "2                 Mystery,Sci-Fi,Thriller   \n",
       "3                                   Drama   \n",
       "4                          Comedy,Romance   \n",
       "\n",
       "                                               books  \n",
       "0  Selections from Harry Potter and the Order of ...  \n",
       "1  The 39 Clues Complete Collection,This Book Is ...  \n",
       "2  Shannon's Land,Rain of Terror,Repercussions,Do...  \n",
       "3  Miss Perfect,Bluesday,Gabriel's Gate,Diabulus ...  \n",
       "4  Shadowed Love,Illusory Love IV,Grosvenor Squar...  "
      ]
     },
     "execution_count": 19,
     "metadata": {},
     "output_type": "execute_result"
    }
   ],
   "source": [
    "df_books_movies = pd.DataFrame(columns=['genres','books'])\n",
    "size = len(unique_genres)\n",
    "books_array = []\n",
    "genres = []\n",
    "for i in range(size):\n",
    "    book_df = book_basedon_movie(unique_genres[i])\n",
    "    book_df = book_df.sort_values(['score','ratings'],ascending=[False,False]).head(5)\n",
    "    books_array.append(','.join([str(elem) for elem in book_df['book_title']]))\n",
    "    genres.append(','.join(unique_genres[i]))\n",
    "df_books_movies['genres'] = genres\n",
    "df_books_movies['books'] = books_array\n",
    "df_books_movies.head()\n"
   ]
  },
  {
   "cell_type": "code",
   "execution_count": 20,
   "metadata": {
    "scrolled": true
   },
   "outputs": [
    {
     "name": "stdout",
     "output_type": "stream",
     "text": [
      "False\n"
     ]
    },
    {
     "data": {
      "text/html": [
       "<div>\n",
       "<style scoped>\n",
       "    .dataframe tbody tr th:only-of-type {\n",
       "        vertical-align: middle;\n",
       "    }\n",
       "\n",
       "    .dataframe tbody tr th {\n",
       "        vertical-align: top;\n",
       "    }\n",
       "\n",
       "    .dataframe thead th {\n",
       "        text-align: right;\n",
       "    }\n",
       "</style>\n",
       "<table border=\"1\" class=\"dataframe\">\n",
       "  <thead>\n",
       "    <tr style=\"text-align: right;\">\n",
       "      <th></th>\n",
       "      <th>userId</th>\n",
       "      <th>movieId</th>\n",
       "      <th>rating</th>\n",
       "      <th>title</th>\n",
       "      <th>genres</th>\n",
       "      <th>books</th>\n",
       "    </tr>\n",
       "  </thead>\n",
       "  <tbody>\n",
       "    <tr>\n",
       "      <th>0</th>\n",
       "      <td>1</td>\n",
       "      <td>2</td>\n",
       "      <td>3.5</td>\n",
       "      <td>Jumanji (1995)</td>\n",
       "      <td>Adventure,Children,Fantasy</td>\n",
       "      <td>Selections from Harry Potter and the Order of ...</td>\n",
       "    </tr>\n",
       "    <tr>\n",
       "      <th>1</th>\n",
       "      <td>1</td>\n",
       "      <td>29</td>\n",
       "      <td>3.5</td>\n",
       "      <td>City of Lost Children, The (Cité des enfants p...</td>\n",
       "      <td>Adventure,Drama,Fantasy,Mystery,Sci-Fi</td>\n",
       "      <td>The 39 Clues Complete Collection,This Book Is ...</td>\n",
       "    </tr>\n",
       "    <tr>\n",
       "      <th>2</th>\n",
       "      <td>1</td>\n",
       "      <td>32</td>\n",
       "      <td>3.5</td>\n",
       "      <td>Twelve Monkeys (a.k.a. 12 Monkeys) (1995)</td>\n",
       "      <td>Mystery,Sci-Fi,Thriller</td>\n",
       "      <td>Shannon's Land,Rain of Terror,Repercussions,Do...</td>\n",
       "    </tr>\n",
       "    <tr>\n",
       "      <th>3</th>\n",
       "      <td>2</td>\n",
       "      <td>62</td>\n",
       "      <td>5.0</td>\n",
       "      <td>Mr. Holland's Opus (1995)</td>\n",
       "      <td>Drama</td>\n",
       "      <td>Miss Perfect,Bluesday,Gabriel's Gate,Diabulus ...</td>\n",
       "    </tr>\n",
       "    <tr>\n",
       "      <th>4</th>\n",
       "      <td>2</td>\n",
       "      <td>3</td>\n",
       "      <td>4.0</td>\n",
       "      <td>Grumpier Old Men (1995)</td>\n",
       "      <td>Comedy,Romance</td>\n",
       "      <td>Shadowed Love,Illusory Love IV,Grosvenor Squar...</td>\n",
       "    </tr>\n",
       "  </tbody>\n",
       "</table>\n",
       "</div>"
      ],
      "text/plain": [
       "   userId  movieId  rating                                              title  \\\n",
       "0       1        2     3.5                                     Jumanji (1995)   \n",
       "1       1       29     3.5  City of Lost Children, The (Cité des enfants p...   \n",
       "2       1       32     3.5          Twelve Monkeys (a.k.a. 12 Monkeys) (1995)   \n",
       "3       2       62     5.0                          Mr. Holland's Opus (1995)   \n",
       "4       2        3     4.0                            Grumpier Old Men (1995)   \n",
       "\n",
       "                                   genres  \\\n",
       "0              Adventure,Children,Fantasy   \n",
       "1  Adventure,Drama,Fantasy,Mystery,Sci-Fi   \n",
       "2                 Mystery,Sci-Fi,Thriller   \n",
       "3                                   Drama   \n",
       "4                          Comedy,Romance   \n",
       "\n",
       "                                               books  \n",
       "0  Selections from Harry Potter and the Order of ...  \n",
       "1  The 39 Clues Complete Collection,This Book Is ...  \n",
       "2  Shannon's Land,Rain of Terror,Repercussions,Do...  \n",
       "3  Miss Perfect,Bluesday,Gabriel's Gate,Diabulus ...  \n",
       "4  Shadowed Love,Illusory Love IV,Grosvenor Squar...  "
      ]
     },
     "execution_count": 20,
     "metadata": {},
     "output_type": "execute_result"
    }
   ],
   "source": [
    "final = pd.merge(toprated_user_movies,df_books_movies, left_on='genres',right_on ='genres',how='left')\n",
    "final = final.dropna()\n",
    "final.to_csv('Recommended_Dataset.csv',index=False)\n",
    "print(final.isnull().values.any())\n",
    "final.head()"
   ]
  },
  {
   "cell_type": "code",
   "execution_count": 21,
   "metadata": {
    "scrolled": true
   },
   "outputs": [
    {
     "data": {
      "text/html": [
       "<div>\n",
       "<style scoped>\n",
       "    .dataframe tbody tr th:only-of-type {\n",
       "        vertical-align: middle;\n",
       "    }\n",
       "\n",
       "    .dataframe tbody tr th {\n",
       "        vertical-align: top;\n",
       "    }\n",
       "\n",
       "    .dataframe thead th {\n",
       "        text-align: right;\n",
       "    }\n",
       "</style>\n",
       "<table border=\"1\" class=\"dataframe\">\n",
       "  <thead>\n",
       "    <tr style=\"text-align: right;\">\n",
       "      <th></th>\n",
       "      <th>userId</th>\n",
       "      <th>movieId</th>\n",
       "      <th>rating</th>\n",
       "      <th>title</th>\n",
       "      <th>genres</th>\n",
       "      <th>books</th>\n",
       "    </tr>\n",
       "  </thead>\n",
       "  <tbody>\n",
       "    <tr>\n",
       "      <th>0</th>\n",
       "      <td>1</td>\n",
       "      <td>2</td>\n",
       "      <td>3.5</td>\n",
       "      <td>Jumanji (1995)</td>\n",
       "      <td>Adventure,Children,Fantasy</td>\n",
       "      <td>[Selections from Harry Potter and the Order of...</td>\n",
       "    </tr>\n",
       "    <tr>\n",
       "      <th>1</th>\n",
       "      <td>1</td>\n",
       "      <td>29</td>\n",
       "      <td>3.5</td>\n",
       "      <td>City of Lost Children, The (Cité des enfants p...</td>\n",
       "      <td>Adventure,Drama,Fantasy,Mystery,Sci-Fi</td>\n",
       "      <td>[The 39 Clues Complete Collection, This Book I...</td>\n",
       "    </tr>\n",
       "    <tr>\n",
       "      <th>2</th>\n",
       "      <td>1</td>\n",
       "      <td>32</td>\n",
       "      <td>3.5</td>\n",
       "      <td>Twelve Monkeys (a.k.a. 12 Monkeys) (1995)</td>\n",
       "      <td>Mystery,Sci-Fi,Thriller</td>\n",
       "      <td>[Shannon's Land, Rain of Terror, Repercussions...</td>\n",
       "    </tr>\n",
       "    <tr>\n",
       "      <th>3</th>\n",
       "      <td>2</td>\n",
       "      <td>62</td>\n",
       "      <td>5.0</td>\n",
       "      <td>Mr. Holland's Opus (1995)</td>\n",
       "      <td>Drama</td>\n",
       "      <td>[Miss Perfect, Bluesday, Gabriel's Gate, Diabu...</td>\n",
       "    </tr>\n",
       "    <tr>\n",
       "      <th>4</th>\n",
       "      <td>2</td>\n",
       "      <td>3</td>\n",
       "      <td>4.0</td>\n",
       "      <td>Grumpier Old Men (1995)</td>\n",
       "      <td>Comedy,Romance</td>\n",
       "      <td>[Shadowed Love, Illusory Love IV, Grosvenor Sq...</td>\n",
       "    </tr>\n",
       "  </tbody>\n",
       "</table>\n",
       "</div>"
      ],
      "text/plain": [
       "   userId  movieId  rating                                              title  \\\n",
       "0       1        2     3.5                                     Jumanji (1995)   \n",
       "1       1       29     3.5  City of Lost Children, The (Cité des enfants p...   \n",
       "2       1       32     3.5          Twelve Monkeys (a.k.a. 12 Monkeys) (1995)   \n",
       "3       2       62     5.0                          Mr. Holland's Opus (1995)   \n",
       "4       2        3     4.0                            Grumpier Old Men (1995)   \n",
       "\n",
       "                                   genres  \\\n",
       "0              Adventure,Children,Fantasy   \n",
       "1  Adventure,Drama,Fantasy,Mystery,Sci-Fi   \n",
       "2                 Mystery,Sci-Fi,Thriller   \n",
       "3                                   Drama   \n",
       "4                          Comedy,Romance   \n",
       "\n",
       "                                               books  \n",
       "0  [Selections from Harry Potter and the Order of...  \n",
       "1  [The 39 Clues Complete Collection, This Book I...  \n",
       "2  [Shannon's Land, Rain of Terror, Repercussions...  \n",
       "3  [Miss Perfect, Bluesday, Gabriel's Gate, Diabu...  \n",
       "4  [Shadowed Love, Illusory Love IV, Grosvenor Sq...  "
      ]
     },
     "execution_count": 21,
     "metadata": {},
     "output_type": "execute_result"
    }
   ],
   "source": [
    "output_data = pd.read_csv('Recommended_Dataset.csv')\n",
    "output_data['books'] = output_data['books'].str.split(',')\n",
    "output_data.head()"
   ]
  },
  {
   "cell_type": "code",
   "execution_count": 22,
   "metadata": {},
   "outputs": [
    {
     "name": "stdout",
     "output_type": "stream",
     "text": [
      "                       genres  \\\n",
      "0  Adventure,Children,Fantasy   \n",
      "\n",
      "                                               books  \n",
      "0  Selections from Harry Potter and the Order of ...  \n"
     ]
    }
   ],
   "source": [
    "#testing the model using genre input \n",
    "\n",
    "print(df_books_movies.loc[df_books_movies['genres']=='Adventure,Children,Fantasy'])"
   ]
  },
  {
   "cell_type": "markdown",
   "metadata": {},
   "source": [
    "### Evaluation"
   ]
  },
  {
   "cell_type": "code",
   "execution_count": 23,
   "metadata": {
    "scrolled": true
   },
   "outputs": [
    {
     "data": {
      "text/html": [
       "<div>\n",
       "<style scoped>\n",
       "    .dataframe tbody tr th:only-of-type {\n",
       "        vertical-align: middle;\n",
       "    }\n",
       "\n",
       "    .dataframe tbody tr th {\n",
       "        vertical-align: top;\n",
       "    }\n",
       "\n",
       "    .dataframe thead th {\n",
       "        text-align: right;\n",
       "    }\n",
       "</style>\n",
       "<table border=\"1\" class=\"dataframe\">\n",
       "  <thead>\n",
       "    <tr style=\"text-align: right;\">\n",
       "      <th></th>\n",
       "      <th>userId</th>\n",
       "      <th>books</th>\n",
       "    </tr>\n",
       "  </thead>\n",
       "  <tbody>\n",
       "    <tr>\n",
       "      <th>0</th>\n",
       "      <td>1</td>\n",
       "      <td>[Selections from Harry Potter and the Order of...</td>\n",
       "    </tr>\n",
       "    <tr>\n",
       "      <th>1</th>\n",
       "      <td>1</td>\n",
       "      <td>[The 39 Clues Complete Collection, This Book I...</td>\n",
       "    </tr>\n",
       "    <tr>\n",
       "      <th>2</th>\n",
       "      <td>1</td>\n",
       "      <td>[Shannon's Land, Rain of Terror, Repercussions...</td>\n",
       "    </tr>\n",
       "    <tr>\n",
       "      <th>3</th>\n",
       "      <td>2</td>\n",
       "      <td>[Miss Perfect, Bluesday, Gabriel's Gate, Diabu...</td>\n",
       "    </tr>\n",
       "    <tr>\n",
       "      <th>4</th>\n",
       "      <td>2</td>\n",
       "      <td>[Shadowed Love, Illusory Love IV, Grosvenor Sq...</td>\n",
       "    </tr>\n",
       "  </tbody>\n",
       "</table>\n",
       "</div>"
      ],
      "text/plain": [
       "   userId                                              books\n",
       "0       1  [Selections from Harry Potter and the Order of...\n",
       "1       1  [The 39 Clues Complete Collection, This Book I...\n",
       "2       1  [Shannon's Land, Rain of Terror, Repercussions...\n",
       "3       2  [Miss Perfect, Bluesday, Gabriel's Gate, Diabu...\n",
       "4       2  [Shadowed Love, Illusory Love IV, Grosvenor Sq..."
      ]
     },
     "execution_count": 23,
     "metadata": {},
     "output_type": "execute_result"
    }
   ],
   "source": [
    "book_ds_csv = pd.DataFrame(columns=['userId','books'])\n",
    "books_array = []\n",
    "users = []\n",
    "genres = []\n",
    "def books_for_users(userID,size):\n",
    "    book = np.array(output_data.loc[output_data['userId']==userID]['books'])\n",
    "    for i in range(size):\n",
    "        users.append(userID)\n",
    "        books_array.append(book[i])    \n",
    "unique_user = np.unique(output_data['userId'])\n",
    "\n",
    "\n",
    "      \n",
    "for j in range(5):\n",
    "    size = len(output_data.loc[output_data['userId']==unique_user[j]]) \n",
    "    books_for_users(unique_user[j],size)\n",
    "\n",
    "book_ds_csv['userId'] = users\n",
    "book_ds_csv['books'] = books_array\n",
    "book_ds_csv.head()"
   ]
  },
  {
   "cell_type": "code",
   "execution_count": 24,
   "metadata": {},
   "outputs": [],
   "source": [
    "book_ds_csv.to_csv('Survey_Dataset.csv',index=False)                         #For survey purpose"
   ]
  },
  {
   "cell_type": "code",
   "execution_count": 25,
   "metadata": {
    "scrolled": true
   },
   "outputs": [
    {
     "data": {
      "text/html": [
       "<div>\n",
       "<style scoped>\n",
       "    .dataframe tbody tr th:only-of-type {\n",
       "        vertical-align: middle;\n",
       "    }\n",
       "\n",
       "    .dataframe tbody tr th {\n",
       "        vertical-align: top;\n",
       "    }\n",
       "\n",
       "    .dataframe thead th {\n",
       "        text-align: right;\n",
       "    }\n",
       "</style>\n",
       "<table border=\"1\" class=\"dataframe\">\n",
       "  <thead>\n",
       "    <tr style=\"text-align: right;\">\n",
       "      <th></th>\n",
       "      <th>userId</th>\n",
       "      <th>book_title</th>\n",
       "      <th>actual_rating</th>\n",
       "    </tr>\n",
       "  </thead>\n",
       "  <tbody>\n",
       "    <tr>\n",
       "      <th>0</th>\n",
       "      <td>1</td>\n",
       "      <td>Selections from Harry Potter and the Order of ...</td>\n",
       "      <td>3.5</td>\n",
       "    </tr>\n",
       "    <tr>\n",
       "      <th>1</th>\n",
       "      <td>1</td>\n",
       "      <td>Jeweler's Apprentice</td>\n",
       "      <td>4.4</td>\n",
       "    </tr>\n",
       "    <tr>\n",
       "      <th>2</th>\n",
       "      <td>1</td>\n",
       "      <td>Waterwight</td>\n",
       "      <td>5.0</td>\n",
       "    </tr>\n",
       "    <tr>\n",
       "      <th>3</th>\n",
       "      <td>1</td>\n",
       "      <td>Heritage of the Xandim</td>\n",
       "      <td>3.3</td>\n",
       "    </tr>\n",
       "    <tr>\n",
       "      <th>4</th>\n",
       "      <td>1</td>\n",
       "      <td>Captain Sinbad</td>\n",
       "      <td>5.0</td>\n",
       "    </tr>\n",
       "    <tr>\n",
       "      <th>5</th>\n",
       "      <td>1</td>\n",
       "      <td>The 39 Clues Complete Collection</td>\n",
       "      <td>4.2</td>\n",
       "    </tr>\n",
       "    <tr>\n",
       "      <th>6</th>\n",
       "      <td>1</td>\n",
       "      <td>This Book Is Not Good for You</td>\n",
       "      <td>3.5</td>\n",
       "    </tr>\n",
       "    <tr>\n",
       "      <th>7</th>\n",
       "      <td>1</td>\n",
       "      <td>If You're Reading This</td>\n",
       "      <td>3.8</td>\n",
       "    </tr>\n",
       "    <tr>\n",
       "      <th>8</th>\n",
       "      <td>1</td>\n",
       "      <td>It's Too Late</td>\n",
       "      <td>4.8</td>\n",
       "    </tr>\n",
       "    <tr>\n",
       "      <th>9</th>\n",
       "      <td>1</td>\n",
       "      <td>The Pretender's Gambit</td>\n",
       "      <td>5.0</td>\n",
       "    </tr>\n",
       "    <tr>\n",
       "      <th>10</th>\n",
       "      <td>1</td>\n",
       "      <td>The Mysterious Benedict Society Collection</td>\n",
       "      <td>3.0</td>\n",
       "    </tr>\n",
       "    <tr>\n",
       "      <th>11</th>\n",
       "      <td>2</td>\n",
       "      <td>Miss Perfect</td>\n",
       "      <td>5.0</td>\n",
       "    </tr>\n",
       "    <tr>\n",
       "      <th>12</th>\n",
       "      <td>2</td>\n",
       "      <td>Bluesday</td>\n",
       "      <td>4.0</td>\n",
       "    </tr>\n",
       "    <tr>\n",
       "      <th>13</th>\n",
       "      <td>2</td>\n",
       "      <td>Gabriel's Gate</td>\n",
       "      <td>3.0</td>\n",
       "    </tr>\n",
       "    <tr>\n",
       "      <th>14</th>\n",
       "      <td>2</td>\n",
       "      <td>Diabulus in musica</td>\n",
       "      <td>4.0</td>\n",
       "    </tr>\n",
       "    <tr>\n",
       "      <th>15</th>\n",
       "      <td>2</td>\n",
       "      <td>A Selfless Man</td>\n",
       "      <td>5.0</td>\n",
       "    </tr>\n",
       "    <tr>\n",
       "      <th>16</th>\n",
       "      <td>2</td>\n",
       "      <td>Frostproof</td>\n",
       "      <td>2.0</td>\n",
       "    </tr>\n",
       "    <tr>\n",
       "      <th>17</th>\n",
       "      <td>2</td>\n",
       "      <td>Brazen Violations</td>\n",
       "      <td>1.0</td>\n",
       "    </tr>\n",
       "    <tr>\n",
       "      <th>18</th>\n",
       "      <td>2</td>\n",
       "      <td>Goat Dance</td>\n",
       "      <td>5.0</td>\n",
       "    </tr>\n",
       "    <tr>\n",
       "      <th>19</th>\n",
       "      <td>2</td>\n",
       "      <td>The Green Mile</td>\n",
       "      <td>4.0</td>\n",
       "    </tr>\n",
       "  </tbody>\n",
       "</table>\n",
       "</div>"
      ],
      "text/plain": [
       "    userId                                         book_title  actual_rating\n",
       "0        1  Selections from Harry Potter and the Order of ...            3.5\n",
       "1        1                               Jeweler's Apprentice            4.4\n",
       "2        1                                         Waterwight            5.0\n",
       "3        1                             Heritage of the Xandim            3.3\n",
       "4        1                                     Captain Sinbad            5.0\n",
       "5        1                   The 39 Clues Complete Collection            4.2\n",
       "6        1                      This Book Is Not Good for You            3.5\n",
       "7        1                             If You're Reading This            3.8\n",
       "8        1                                      It's Too Late            4.8\n",
       "9        1                             The Pretender's Gambit            5.0\n",
       "10       1         The Mysterious Benedict Society Collection            3.0\n",
       "11       2                                       Miss Perfect            5.0\n",
       "12       2                                           Bluesday            4.0\n",
       "13       2                                     Gabriel's Gate            3.0\n",
       "14       2                                 Diabulus in musica            4.0\n",
       "15       2                                     A Selfless Man            5.0\n",
       "16       2                                         Frostproof            2.0\n",
       "17       2                                  Brazen Violations            1.0\n",
       "18       2                                         Goat Dance            5.0\n",
       "19       2                                     The Green Mile            4.0"
      ]
     },
     "execution_count": 25,
     "metadata": {},
     "output_type": "execute_result"
    }
   ],
   "source": [
    "survey_data = pd.read_excel('Consolidated_Survey_Response.xlsx')\n",
    "survey_data.head(20)"
   ]
  },
  {
   "cell_type": "code",
   "execution_count": 26,
   "metadata": {},
   "outputs": [
    {
     "data": {
      "text/plain": [
       "Text(0, 0.5, 'frequency')"
      ]
     },
     "execution_count": 26,
     "metadata": {},
     "output_type": "execute_result"
    },
    {
     "data": {
      "image/png": "[encoded data removed]",
      "text/plain": [
       "<Figure size 432x288 with 1 Axes>"
      ]
     },
     "metadata": {
      "needs_background": "light"
     },
     "output_type": "display_data"
    }
   ],
   "source": [
    "survey_data['actual_rating'].hist(bins= 50)\n",
    "plt.xlabel('actual_rating')\n",
    "plt.ylabel('frequency')"
   ]
  },
  {
   "cell_type": "code",
   "execution_count": 27,
   "metadata": {},
   "outputs": [
    {
     "name": "stdout",
     "output_type": "stream",
     "text": [
      "   userId     score\n",
      "0       1  0.636364\n",
      "1       2  0.562500\n",
      "2       3  0.500000\n",
      "3       4  0.400000\n",
      "4       5  0.200000\n",
      "5       6  0.900000\n",
      "6       8  0.900000\n",
      "7       9  0.400000\n",
      "8      10  0.500000\n",
      "9      11  0.500000\n"
     ]
    }
   ],
   "source": [
    "accuracy_score = []\n",
    "user = []\n",
    "def estimation_score(userID):\n",
    "    final_list = list(filter(lambda x: (x>maxRating_book/2+1) , survey_data.loc[survey_data['userId']==userID]['actual_rating']))\n",
    "    size = len(survey_data.loc[survey_data['userId']==userID]['actual_rating'])\n",
    "    user.append(userID)\n",
    "    accuracy_score.append(len(final_list)/size)\n",
    "users_survey = survey_data['userId'].unique()\n",
    "for i in range(len(users_survey)):\n",
    "    estimation_score(users_survey[i])\n",
    "    \n",
    "evaluation_ds = pd.DataFrame(columns=['userId','score'])\n",
    "evaluation_ds['userId'] = user\n",
    "evaluation_ds['score'] = accuracy_score\n",
    "print(evaluation_ds)"
   ]
  },
  {
   "cell_type": "code",
   "execution_count": 28,
   "metadata": {
    "scrolled": true
   },
   "outputs": [
    {
     "data": {
      "text/plain": [
       "Text(0, 0.5, 'accuracy score')"
      ]
     },
     "execution_count": 28,
     "metadata": {},
     "output_type": "execute_result"
    },
    {
     "data": {
      "image/png": "[encoded data removed]",
      "text/plain": [
       "<Figure size 432x288 with 1 Axes>"
      ]
     },
     "metadata": {
      "needs_background": "light"
     },
     "output_type": "display_data"
    }
   ],
   "source": [
    "evaluation_ds.plot.bar(y='score',x = 'userId')\n",
    "plt.ylabel('accuracy score')"
   ]
  },
  {
   "cell_type": "code",
   "execution_count": 29,
   "metadata": {
    "scrolled": false
   },
   "outputs": [
    {
     "data": {
      "text/html": [
       "<div>\n",
       "<style scoped>\n",
       "    .dataframe tbody tr th:only-of-type {\n",
       "        vertical-align: middle;\n",
       "    }\n",
       "\n",
       "    .dataframe tbody tr th {\n",
       "        vertical-align: top;\n",
       "    }\n",
       "\n",
       "    .dataframe thead th {\n",
       "        text-align: right;\n",
       "    }\n",
       "</style>\n",
       "<table border=\"1\" class=\"dataframe\">\n",
       "  <thead>\n",
       "    <tr style=\"text-align: right;\">\n",
       "      <th></th>\n",
       "      <th>userId</th>\n",
       "      <th>book_title</th>\n",
       "      <th>actual_rating</th>\n",
       "      <th>genres</th>\n",
       "    </tr>\n",
       "  </thead>\n",
       "  <tbody>\n",
       "    <tr>\n",
       "      <th>0</th>\n",
       "      <td>1</td>\n",
       "      <td>Selections from Harry Potter and the Order of ...</td>\n",
       "      <td>3.5</td>\n",
       "      <td>[Fantasy, Adventure]</td>\n",
       "    </tr>\n",
       "    <tr>\n",
       "      <th>1</th>\n",
       "      <td>1</td>\n",
       "      <td>Jeweler's Apprentice</td>\n",
       "      <td>4.4</td>\n",
       "      <td>[Fantasy, Adventure]</td>\n",
       "    </tr>\n",
       "    <tr>\n",
       "      <th>2</th>\n",
       "      <td>1</td>\n",
       "      <td>Waterwight</td>\n",
       "      <td>5.0</td>\n",
       "      <td>[Fantasy, Adventure]</td>\n",
       "    </tr>\n",
       "    <tr>\n",
       "      <th>3</th>\n",
       "      <td>1</td>\n",
       "      <td>Heritage of the Xandim</td>\n",
       "      <td>3.3</td>\n",
       "      <td>[Fantasy, Adventure]</td>\n",
       "    </tr>\n",
       "    <tr>\n",
       "      <th>4</th>\n",
       "      <td>1</td>\n",
       "      <td>Captain Sinbad</td>\n",
       "      <td>5.0</td>\n",
       "      <td>[Fantasy, Adventure]</td>\n",
       "    </tr>\n",
       "  </tbody>\n",
       "</table>\n",
       "</div>"
      ],
      "text/plain": [
       "   userId                                         book_title  actual_rating  \\\n",
       "0       1  Selections from Harry Potter and the Order of ...            3.5   \n",
       "1       1                               Jeweler's Apprentice            4.4   \n",
       "2       1                                         Waterwight            5.0   \n",
       "3       1                             Heritage of the Xandim            3.3   \n",
       "4       1                                     Captain Sinbad            5.0   \n",
       "\n",
       "                 genres  \n",
       "0  [Fantasy, Adventure]  \n",
       "1  [Fantasy, Adventure]  \n",
       "2  [Fantasy, Adventure]  \n",
       "3  [Fantasy, Adventure]  \n",
       "4  [Fantasy, Adventure]  "
      ]
     },
     "execution_count": 29,
     "metadata": {},
     "output_type": "execute_result"
    }
   ],
   "source": [
    "evaluate_books = pd.merge(survey_data,books,left_on='book_title',right_on ='book_title',how='left')\n",
    "evaluate_books = evaluate_books.drop(columns =['book_rating'])\n",
    "evaluate_books = evaluate_books.dropna()\n",
    "evaluate_books.head()"
   ]
  },
  {
   "cell_type": "code",
   "execution_count": 30,
   "metadata": {},
   "outputs": [
    {
     "data": {
      "text/html": [
       "<div>\n",
       "<style scoped>\n",
       "    .dataframe tbody tr th:only-of-type {\n",
       "        vertical-align: middle;\n",
       "    }\n",
       "\n",
       "    .dataframe tbody tr th {\n",
       "        vertical-align: top;\n",
       "    }\n",
       "\n",
       "    .dataframe thead th {\n",
       "        text-align: right;\n",
       "    }\n",
       "</style>\n",
       "<table border=\"1\" class=\"dataframe\">\n",
       "  <thead>\n",
       "    <tr style=\"text-align: right;\">\n",
       "      <th></th>\n",
       "      <th>userId</th>\n",
       "      <th>book_title</th>\n",
       "      <th>actual_rating</th>\n",
       "      <th>genres</th>\n",
       "    </tr>\n",
       "  </thead>\n",
       "  <tbody>\n",
       "    <tr>\n",
       "      <th>0</th>\n",
       "      <td>1</td>\n",
       "      <td>Selections from Harry Potter and the Order of ...</td>\n",
       "      <td>3.5</td>\n",
       "      <td>Fantasy,Adventure</td>\n",
       "    </tr>\n",
       "    <tr>\n",
       "      <th>1</th>\n",
       "      <td>1</td>\n",
       "      <td>Jeweler's Apprentice</td>\n",
       "      <td>4.4</td>\n",
       "      <td>Fantasy,Adventure</td>\n",
       "    </tr>\n",
       "    <tr>\n",
       "      <th>2</th>\n",
       "      <td>1</td>\n",
       "      <td>Waterwight</td>\n",
       "      <td>5.0</td>\n",
       "      <td>Fantasy,Adventure</td>\n",
       "    </tr>\n",
       "    <tr>\n",
       "      <th>3</th>\n",
       "      <td>1</td>\n",
       "      <td>Heritage of the Xandim</td>\n",
       "      <td>3.3</td>\n",
       "      <td>Fantasy,Adventure</td>\n",
       "    </tr>\n",
       "    <tr>\n",
       "      <th>4</th>\n",
       "      <td>1</td>\n",
       "      <td>Captain Sinbad</td>\n",
       "      <td>5.0</td>\n",
       "      <td>Fantasy,Adventure</td>\n",
       "    </tr>\n",
       "  </tbody>\n",
       "</table>\n",
       "</div>"
      ],
      "text/plain": [
       "   userId                                         book_title  actual_rating  \\\n",
       "0       1  Selections from Harry Potter and the Order of ...            3.5   \n",
       "1       1                               Jeweler's Apprentice            4.4   \n",
       "2       1                                         Waterwight            5.0   \n",
       "3       1                             Heritage of the Xandim            3.3   \n",
       "4       1                                     Captain Sinbad            5.0   \n",
       "\n",
       "              genres  \n",
       "0  Fantasy,Adventure  \n",
       "1  Fantasy,Adventure  \n",
       "2  Fantasy,Adventure  \n",
       "3  Fantasy,Adventure  \n",
       "4  Fantasy,Adventure  "
      ]
     },
     "execution_count": 30,
     "metadata": {},
     "output_type": "execute_result"
    }
   ],
   "source": [
    "evaluate_books['genres'] = evaluate_books['genres'].str.join(',')\n",
    "evaluate_books.head()"
   ]
  },
  {
   "cell_type": "code",
   "execution_count": 31,
   "metadata": {
    "scrolled": false
   },
   "outputs": [
    {
     "name": "stdout",
     "output_type": "stream",
     "text": [
      "[[1.         1.         1.         1.         1.         0.37034828\n",
      "  0.45351023 0.45351023 0.3057739 ]\n",
      " [1.         1.         1.         1.         1.         0.37034828\n",
      "  0.45351023 0.45351023 0.3057739 ]\n",
      " [1.         1.         1.         1.         1.         0.37034828\n",
      "  0.45351023 0.45351023 0.3057739 ]\n",
      " [1.         1.         1.         1.         1.         0.37034828\n",
      "  0.45351023 0.45351023 0.3057739 ]\n",
      " [1.         1.         1.         1.         1.         0.37034828\n",
      "  0.45351023 0.45351023 0.3057739 ]\n",
      " [0.37034828 0.37034828 0.37034828 0.37034828 0.37034828 1.\n",
      "  0.40870149 0.40870149 0.82563878]\n",
      " [0.45351023 0.45351023 0.45351023 0.45351023 0.45351023 0.40870149\n",
      "  1.         1.         0.3374398 ]\n",
      " [0.45351023 0.45351023 0.45351023 0.45351023 0.45351023 0.40870149\n",
      "  1.         1.         0.3374398 ]\n",
      " [0.3057739  0.3057739  0.3057739  0.3057739  0.3057739  0.82563878\n",
      "  0.3374398  0.3374398  1.        ]]\n"
     ]
    }
   ],
   "source": [
    "def get_genres(userID):\n",
    "    genres_of_rec_books = evaluate_books.loc[evaluate_books['userId']==userID]['genres']\n",
    "    return genres_of_rec_books\n",
    "rec_genres_matrix =get_genres(1)\n",
    "\n",
    "# Finding similarity between books using linear metric.\n",
    "\n",
    "tfidf_vectorizer = TfidfVectorizer()\n",
    "tfidf_matrix = tfidf_vectorizer.fit_transform(rec_genres_matrix)\n",
    "linear_similarity_matrix =  pairwise_kernels(tfidf_matrix, tfidf_matrix, metric='linear')  \n",
    "print(linear_similarity_matrix)"
   ]
  },
  {
   "cell_type": "code",
   "execution_count": 32,
   "metadata": {},
   "outputs": [
    {
     "data": {
      "text/plain": [
       "[Text(33.0, 0.5, 'book genre'), Text(0.5, 15.0, 'book genre')]"
      ]
     },
     "execution_count": 32,
     "metadata": {},
     "output_type": "execute_result"
    },
    {
     "data": {
      "image/png": "[encoded data removed]",
      "text/plain": [
       "<Figure size 432x288 with 2 Axes>"
      ]
     },
     "metadata": {
      "needs_background": "light"
     },
     "output_type": "display_data"
    }
   ],
   "source": [
    "fig = sns.heatmap(linear_similarity_matrix)\n",
    "fig.set(xlabel='book genre', ylabel='book genre')"
   ]
  },
  {
   "cell_type": "code",
   "execution_count": 33,
   "metadata": {
    "scrolled": true
   },
   "outputs": [
    {
     "name": "stdout",
     "output_type": "stream",
     "text": [
      "[[1.         1.         1.         1.         1.         0.83535333\n",
      "  0.85543948 0.85543948 0.82008252]\n",
      " [1.         1.         1.         1.         1.         0.83535333\n",
      "  0.85543948 0.85543948 0.82008252]\n",
      " [1.         1.         1.         1.         1.         0.83535333\n",
      "  0.85543948 0.85543948 0.82008252]\n",
      " [1.         1.         1.         1.         1.         0.83535333\n",
      "  0.85543948 0.85543948 0.82008252]\n",
      " [1.         1.         1.         1.         1.         0.83535333\n",
      "  0.85543948 0.85543948 0.82008252]\n",
      " [0.83535333 0.83535333 0.83535333 0.83535333 0.83535333 1.\n",
      "  0.84455752 0.84455752 0.95140305]\n",
      " [0.85543948 0.85543948 0.85543948 0.85543948 0.85543948 0.84455752\n",
      "  1.         1.         0.8275358 ]\n",
      " [0.85543948 0.85543948 0.85543948 0.85543948 0.85543948 0.84455752\n",
      "  1.         1.         0.8275358 ]\n",
      " [0.82008252 0.82008252 0.82008252 0.82008252 0.82008252 0.95140305\n",
      "  0.8275358  0.8275358  1.        ]]\n"
     ]
    },
    {
     "data": {
      "text/plain": [
       "[Text(33.0, 0.5, 'book genre'), Text(0.5, 15.0, 'book genre')]"
      ]
     },
     "execution_count": 33,
     "metadata": {},
     "output_type": "execute_result"
    },
    {
     "data": {
      "image/png": "[encoded data removed]",
      "text/plain": [
       "<Figure size 432x288 with 2 Axes>"
      ]
     },
     "metadata": {
      "needs_background": "light"
     },
     "output_type": "display_data"
    }
   ],
   "source": [
    "# Finding similarity between books using RBF metric.\n",
    "\n",
    "rbf_similarity_matrix =  pairwise_kernels(tfidf_matrix, tfidf_matrix, metric='rbf')\n",
    "print(rbf_similarity_matrix)\n",
    "fig = sns.heatmap(rbf_similarity_matrix)\n",
    "fig.set(xlabel='book genre', ylabel='book genre')"
   ]
  },
  {
   "cell_type": "code",
   "execution_count": 34,
   "metadata": {
    "scrolled": true
   },
   "outputs": [
    {
     "name": "stdout",
     "output_type": "stream",
     "text": [
      "[[0.81537394 0.81537394 0.81537394 0.81537394 0.81537394 0.78293393\n",
      "  0.78748919 0.78748919 0.77933789]\n",
      " [0.81537394 0.81537394 0.81537394 0.81537394 0.81537394 0.78293393\n",
      "  0.78748919 0.78748919 0.77933789]\n",
      " [0.81537394 0.81537394 0.81537394 0.81537394 0.81537394 0.78293393\n",
      "  0.78748919 0.78748919 0.77933789]\n",
      " [0.81537394 0.81537394 0.81537394 0.81537394 0.81537394 0.78293393\n",
      "  0.78748919 0.78748919 0.77933789]\n",
      " [0.81537394 0.81537394 0.81537394 0.81537394 0.81537394 0.78293393\n",
      "  0.78748919 0.78748919 0.77933789]\n",
      " [0.78293393 0.78293393 0.78293393 0.78293393 0.78293393 0.81537394\n",
      "  0.78504532 0.78504532 0.80685412]\n",
      " [0.78748919 0.78748919 0.78748919 0.78748919 0.78748919 0.78504532\n",
      "  0.81537394 0.81537394 0.78110779]\n",
      " [0.78748919 0.78748919 0.78748919 0.78748919 0.78748919 0.78504532\n",
      "  0.81537394 0.81537394 0.78110779]\n",
      " [0.77933789 0.77933789 0.77933789 0.77933789 0.77933789 0.80685412\n",
      "  0.78110779 0.78110779 0.81537394]]\n"
     ]
    },
    {
     "data": {
      "text/plain": [
       "[Text(33.0, 0.5, 'book genre'), Text(0.5, 15.0, 'book genre')]"
      ]
     },
     "execution_count": 34,
     "metadata": {},
     "output_type": "execute_result"
    },
    {
     "data": {
      "image/png": "[encoded data removed]",
      "text/plain": [
       "<Figure size 432x288 with 2 Axes>"
      ]
     },
     "metadata": {
      "needs_background": "light"
     },
     "output_type": "display_data"
    }
   ],
   "source": [
    "# Finding similarity between books using Sigmoid metric.\n",
    "\n",
    "sigmoid_similarity_matrix =  pairwise_kernels(tfidf_matrix, tfidf_matrix, metric='sigmoid')\n",
    "print(sigmoid_similarity_matrix)\n",
    "fig = sns.heatmap(sigmoid_similarity_matrix)\n",
    "fig.set(xlabel='book genre', ylabel='book genre')"
   ]
  },
  {
   "cell_type": "code",
   "execution_count": 35,
   "metadata": {
    "scrolled": true
   },
   "outputs": [
    {
     "name": "stdout",
     "output_type": "stream",
     "text": [
      "[[1.         1.         1.         1.         1.         0.70085394\n",
      "  0.7490569  0.7490569  0.66411216]\n",
      " [1.         1.         1.         1.         1.         0.70085394\n",
      "  0.7490569  0.7490569  0.66411216]\n",
      " [1.         1.         1.         1.         1.         0.70085394\n",
      "  0.7490569  0.7490569  0.66411216]\n",
      " [1.         1.         1.         1.         1.         0.70085394\n",
      "  0.7490569  0.7490569  0.66411216]\n",
      " [1.         1.         1.         1.         1.         0.70085394\n",
      "  0.7490569  0.7490569  0.66411216]\n",
      " [0.70085394 0.70085394 0.70085394 0.70085394 0.70085394 1.\n",
      "  0.74312068 0.74312068 0.87507711]\n",
      " [0.7490569  0.7490569  0.7490569  0.7490569  0.7490569  0.74312068\n",
      "  1.         1.         0.68877952]\n",
      " [0.7490569  0.7490569  0.7490569  0.7490569  0.7490569  0.74312068\n",
      "  1.         1.         0.68877952]\n",
      " [0.66411216 0.66411216 0.66411216 0.66411216 0.66411216 0.87507711\n",
      "  0.68877952 0.68877952 1.        ]]\n"
     ]
    },
    {
     "data": {
      "text/plain": [
       "[Text(33.0, 0.5, 'book genre'), Text(0.5, 15.0, 'book genre')]"
      ]
     },
     "execution_count": 35,
     "metadata": {},
     "output_type": "execute_result"
    },
    {
     "data": {
      "image/png": "[encoded data removed]",
      "text/plain": [
       "<Figure size 432x288 with 2 Axes>"
      ]
     },
     "metadata": {
      "needs_background": "light"
     },
     "output_type": "display_data"
    }
   ],
   "source": [
    "# Finding similarity between books using Laplacian metric.\n",
    "\n",
    "laplacian_similarity_matrix =  pairwise_kernels(tfidf_matrix, tfidf_matrix, metric='laplacian')\n",
    "print(laplacian_similarity_matrix)\n",
    "fig = sns.heatmap(laplacian_similarity_matrix)\n",
    "fig.set(xlabel='book genre', ylabel='book genre')"
   ]
  },
  {
   "cell_type": "code",
   "execution_count": 36,
   "metadata": {
    "scrolled": true
   },
   "outputs": [
    {
     "data": {
      "application/vnd.jupyter.widget-view+json": {
       "model_id": "afcf0dde261d4b8d8517d6d1a1b8b75b",
       "version_major": 2,
       "version_minor": 0
      },
      "text/plain": [
       "QgridWidget(grid_options={'fullWidthRows': True, 'syncColumnCellResize': True, 'forceFitColumns': True, 'defau…"
      ]
     },
     "metadata": {},
     "output_type": "display_data"
    }
   ],
   "source": [
    "data_display = output_data.drop(columns=['movieId','rating'])\n",
    "qwidget = qgrid.show_grid(data_display,show_toolbar=True)\n",
    "qwidget"
   ]
  },
  {
   "cell_type": "code",
   "execution_count": 37,
   "metadata": {},
   "outputs": [
    {
     "data": {
      "application/vnd.jupyter.widget-view+json": {
       "model_id": "d459d25331324878b26f192f583d2c78",
       "version_major": 2,
       "version_minor": 0
      },
      "text/plain": [
       "QgridWidget(grid_options={'fullWidthRows': True, 'syncColumnCellResize': True, 'forceFitColumns': True, 'defau…"
      ]
     },
     "metadata": {},
     "output_type": "display_data"
    }
   ],
   "source": [
    "qwidget2 = qgrid.show_grid(evaluation_ds,show_toolbar=True)\n",
    "qwidget2"
   ]
  }
 ],
 "metadata": {
  "kernelspec": {
   "display_name": "Python 3",
   "language": "python",
   "name": "python3"
  },
  "language_info": {
   "codemirror_mode": {
    "name": "ipython",
    "version": 3
   },
   "file_extension": ".py",
   "mimetype": "text/x-python",
   "name": "python",
   "nbconvert_exporter": "python",
   "pygments_lexer": "ipython3",
   "version": "3.7.3"
  }
 },
 "nbformat": 4,
 "nbformat_minor": 2
}
